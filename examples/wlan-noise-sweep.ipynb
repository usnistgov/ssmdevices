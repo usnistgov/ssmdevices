{
 "cells": [
  {
   "cell_type": "markdown",
   "metadata": {},
   "source": [
    "# Data Acquisition Example: Testing WLAN Client Receiver System Noise\n",
    "_By Dan Kuester_\n",
    "\n",
    "Test data for WLAN is implemented with the the iperf support in [ssmdevices](https://gitlab.nist.gov/ssm/ssmdevices). It produces many more columns of data than we need, so we just use the two defined in `ipc_columns`: throughput and a timestamp.\n",
    "\n",
    "The results of the tests and the corresponding test conditions are stored in a [flat database](https://en.wikipedia.org/wiki/Flat_file_database) stored in SQLite format. It is implemented as a typical intended use case of `labbench.RelationalDataInSQLite`. The test conditions are implemented as states in the attenuators, `iperf`, and `wlan`, so all we need to log these results into the database is to add the `db.on_set` call. Any states that are changed after that function call (for example, with the for loops in the acquisition code) become columns in the database; these values are automatically kept up to date and written to the database on calls to `db.write`."
   ]
  },
  {
   "cell_type": "code",
   "execution_count": 4,
   "metadata": {},
   "outputs": [
    {
     "name": "stderr",
     "output_type": "stream",
     "text": [
      "\u001b[32m2018-10-16 11:48:00.483\u001b[0m - \u001b[30mDEBUG\u001b[0m - \u001b[32mWLANStatus('Wi-Fi') - starting WLAN reconnect watchdog\u001b[0m\n"
     ]
    },
    {
     "name": "stdout",
     "output_type": "stream",
     "text": [
      "Populating the interactive namespace from numpy and matplotlib\n"
     ]
    },
    {
     "name": "stderr",
     "output_type": "stream",
     "text": [
      "\u001b[32m2018-10-16 11:48:00.797\u001b[0m - \u001b[30mDEBUG\u001b[0m - \u001b[32mMiniCircuitsRCDAT('11604210014') - Connected to MiniCircuits RCDAT-6000-110 attenuator, SN#11604210014\u001b[0m\n",
      "\u001b[32m2018-10-16 11:48:00.809\u001b[0m - \u001b[30mDEBUG\u001b[0m - \u001b[32mMiniCircuitsRCDAT('11604210008') - Connected to MiniCircuits RCDAT-6000-110 attenuator, SN#11604210008\u001b[0m\n",
      "\u001b[32m2018-10-16 11:48:01.000\u001b[0m - \u001b[30mINFO\u001b[0m - Connected in 0.52s\n",
      "\u001b[32m2018-10-16 11:48:01.055\u001b[0m - \u001b[30mDEBUG\u001b[0m - \u001b[32mMiniCircuitsRCDAT('11604210008') - set attenuation 30.0 dB\u001b[0m\n",
      "\u001b[32m2018-10-16 11:48:01.067\u001b[0m - \u001b[30mDEBUG\u001b[0m - \u001b[32mMiniCircuitsRCDAT('11604210014') - set attenuation 110.0 dB\u001b[0m\n",
      "\u001b[32m2018-10-16 11:48:01.070\u001b[0m - \u001b[30mDEBUG\u001b[0m - \u001b[32mIPerf('') - background execute: '..\\\\..\\\\..\\\\..\\\\AppData\\\\Local\\\\Continuum\\\\anaconda3\\\\lib\\\\site-packages\\\\ssmdevices\\\\lib\\\\iperf.exe -n -1 -y C -s -B 10.0.0.3 -i 0.25 -p 5001 -t 10'\u001b[0m\n",
      "\u001b[32m2018-10-16 11:48:01.124\u001b[0m - \u001b[30mDEBUG\u001b[0m - \u001b[32mIPerf('10.0.0.3') - background execute: '..\\\\..\\\\..\\\\..\\\\AppData\\\\Local\\\\Continuum\\\\anaconda3\\\\lib\\\\site-packages\\\\ssmdevices\\\\lib\\\\iperf.exe -n -1 -y C -c 10.0.0.3 -B 10.0.0.2 -i 0.1 -p 5001 -t 10'\u001b[0m\n"
     ]
    },
    {
     "name": "stdout",
     "output_type": "stream",
     "text": [
      "Pausing for 20s setup time\n"
     ]
    },
    {
     "name": "stderr",
     "output_type": "stream",
     "text": [
      "\u001b[32m2018-10-16 11:48:11.537\u001b[0m - \u001b[30mDEBUG\u001b[0m - \u001b[32mIPerf('10.0.0.3') - stdout closed; execution done\u001b[0m\n",
      "\u001b[32m2018-10-16 11:48:21.213\u001b[0m - \u001b[30mDEBUG\u001b[0m - \u001b[32mHost('') - Host('') disconnected\u001b[0m\n",
      "\u001b[32m2018-10-16 11:48:21.214\u001b[0m - \u001b[30mDEBUG\u001b[0m - \u001b[32mMiniCircuitsRCDAT('11604210008') - MiniCircuitsRCDAT('11604210008') disconnected\u001b[0m\n",
      "\u001b[32m2018-10-16 11:48:21.216\u001b[0m - \u001b[30mDEBUG\u001b[0m - \u001b[32mMiniCircuitsRCDAT('11604210014') - MiniCircuitsRCDAT('11604210014') disconnected\u001b[0m\n",
      "\u001b[32m2018-10-16 11:48:21.217\u001b[0m - \u001b[30mWARNING\u001b[0m - \u001b[33mIPerf('10.0.0.3') - tried kill(), but no process is running\u001b[0m\n",
      "\u001b[32m2018-10-16 11:48:21.218\u001b[0m - \u001b[30mDEBUG\u001b[0m - \u001b[32mIPerf('10.0.0.3') - IPerf('10.0.0.3') disconnected\u001b[0m\n",
      "\u001b[32m2018-10-16 11:48:21.229\u001b[0m - \u001b[30mDEBUG\u001b[0m - \u001b[32mIPerf('') - stdout closed; execution done\u001b[0m\n",
      "\u001b[32m2018-10-16 11:48:21.234\u001b[0m - \u001b[30mDEBUG\u001b[0m - \u001b[32mIPerf('') - IPerf('') disconnected\u001b[0m\n",
      "\u001b[32m2018-10-16 11:48:21.236\u001b[0m - \u001b[30mWARNING\u001b[0m - \u001b[33mNetsh('') - tried kill(), but no process is running\u001b[0m\n",
      "\u001b[32m2018-10-16 11:48:21.238\u001b[0m - \u001b[30mDEBUG\u001b[0m - \u001b[32mNetsh('') - Netsh('') disconnected\u001b[0m\n",
      "\u001b[32m2018-10-16 11:48:21.239\u001b[0m - \u001b[30mDEBUG\u001b[0m - \u001b[32mWLANStatus('Wi-Fi') - WLANStatus('Wi-Fi') disconnected\u001b[0m\n",
      "\u001b[32m2018-10-16 11:48:21.240\u001b[0m - \u001b[30mINFO\u001b[0m - Disconnected all in 0.05s\n"
     ]
    },
    {
     "ename": "FileNotFoundError",
     "evalue": "[Errno 2] No such file or directory: 'C:\\\\python code\\\\junk.csv'",
     "output_type": "error",
     "traceback": [
      "\u001b[1;31m---------------------------------------------------------------------------\u001b[0m",
      "\u001b[1;31mFileNotFoundError\u001b[0m                         Traceback (most recent call last)",
      "\u001b[1;32m<ipython-input-4-a7e11fe807b2>\u001b[0m in \u001b[0;36m<module>\u001b[1;34m()\u001b[0m\n\u001b[0;32m     53\u001b[0m     \u001b[0miperf_client\u001b[0m\u001b[1;33m.\u001b[0m\u001b[0mstart\u001b[0m\u001b[1;33m(\u001b[0m\u001b[1;33m)\u001b[0m\u001b[1;33m\u001b[0m\u001b[0m\n\u001b[0;32m     54\u001b[0m     \u001b[0mtime\u001b[0m\u001b[1;33m.\u001b[0m\u001b[0msleep\u001b[0m\u001b[1;33m(\u001b[0m\u001b[0msetup_time\u001b[0m\u001b[1;33m)\u001b[0m\u001b[1;33m\u001b[0m\u001b[0m\n\u001b[1;32m---> 55\u001b[1;33m     \u001b[0mdf\u001b[0m\u001b[1;33m=\u001b[0m\u001b[0miperf_client\u001b[0m\u001b[1;33m.\u001b[0m\u001b[0mfetch\u001b[0m\u001b[1;33m(\u001b[0m\u001b[1;33m)\u001b[0m\u001b[1;33m\u001b[0m\u001b[0m\n\u001b[0m\u001b[0;32m     56\u001b[0m     \u001b[0mdf_server\u001b[0m\u001b[1;33m=\u001b[0m\u001b[0miperf_server\u001b[0m\u001b[1;33m.\u001b[0m\u001b[0mfetch\u001b[0m\u001b[1;33m(\u001b[0m\u001b[1;33m)\u001b[0m\u001b[1;33m\u001b[0m\u001b[0m\n\u001b[0;32m     57\u001b[0m \u001b[1;33m\u001b[0m\u001b[0m\n",
      "\u001b[1;32m~\\AppData\\Local\\Continuum\\anaconda3\\lib\\site-packages\\ssmdevices\\software\\iperf.py\u001b[0m in \u001b[0;36mfetch\u001b[1;34m(self)\u001b[0m\n\u001b[0;32m     60\u001b[0m \u001b[1;33m\u001b[0m\u001b[0m\n\u001b[0;32m     61\u001b[0m         \u001b[0mcolumns\u001b[0m \u001b[1;33m=\u001b[0m \u001b[1;33m[\u001b[0m\u001b[1;34m'iperf_'\u001b[0m\u001b[1;33m+\u001b[0m\u001b[0mc\u001b[0m \u001b[1;32mfor\u001b[0m \u001b[0mc\u001b[0m \u001b[1;32min\u001b[0m \u001b[0mcolumns\u001b[0m\u001b[1;33m]\u001b[0m\u001b[1;33m\u001b[0m\u001b[0m\n\u001b[1;32m---> 62\u001b[1;33m         \u001b[0mopen\u001b[0m\u001b[1;33m(\u001b[0m\u001b[1;34mr'C:\\python code\\junk.csv'\u001b[0m\u001b[1;33m,\u001b[0m\u001b[1;34m'wb'\u001b[0m\u001b[1;33m)\u001b[0m\u001b[1;33m.\u001b[0m\u001b[0mwrite\u001b[0m\u001b[1;33m(\u001b[0m\u001b[0mStringIO\u001b[0m\u001b[1;33m(\u001b[0m\u001b[0mresult\u001b[0m\u001b[1;33m)\u001b[0m\u001b[1;33m.\u001b[0m\u001b[0mread\u001b[0m\u001b[1;33m(\u001b[0m\u001b[1;33m)\u001b[0m\u001b[1;33m.\u001b[0m\u001b[0mencode\u001b[0m\u001b[1;33m(\u001b[0m\u001b[1;33m)\u001b[0m\u001b[1;33m)\u001b[0m\u001b[1;33m\u001b[0m\u001b[0m\n\u001b[0m\u001b[0;32m     63\u001b[0m         data = pd.read_csv(StringIO(result), header=None,index_col=False,\n\u001b[0;32m     64\u001b[0m                            names=columns)\n",
      "\u001b[1;31mFileNotFoundError\u001b[0m: [Errno 2] No such file or directory: 'C:\\\\python code\\\\junk.csv'"
     ]
    }
   ],
   "source": [
    "# This should be run in python 3.6.x from the computer connected to the AP side\n",
    "\n",
    "%pylab inline\n",
    "import time\n",
    "import ssmdevices as ssm\n",
    "import labbench as lb\n",
    "import pandas as pd\n",
    "\n",
    "def meshpoints (x1, x2, *args):\n",
    "    ''' For input of N-dimensions of grid point vectors (x1, x2, ..., xN),\n",
    "        where each (x1, x2, ... xN) has dimension (M1, M2, ..., MN),\n",
    "        returns an array with shape (M1*M2*...*MN,N) that consists of the\n",
    "        unique points in the multi-dimensional grid with sampled at\n",
    "        the vector points (x1, x2, ..., xN) in each axis. This is also known\n",
    "        as the the cartesian product of (x1 ... xN).\n",
    "    '''\n",
    "    ret = np.array(np.meshgrid(*((x1,x2)+args)))\n",
    "    return ret.reshape([ret.shape[0],np.prod(ret.shape[1:])]).T\n",
    "\n",
    "setup_time = 20 # seconds\n",
    "acquisition_time = 5 #  seconds\n",
    "\n",
    "iperf_columns       = ['iperf_bits_per_second','iperf_timestamp']\n",
    "sweep_points       = meshpoints(list(range(20,61,40)),[110]+list(range(0,41,40)))\n",
    "#np.random.shuffle(c_e0_points) # randomize?\n",
    "\n",
    "# db_path = '{}'.format(time.strftime(\"%Y-%m-%d-%HH-%MM\"))\n",
    "\n",
    "lb.show_messages('debug')\n",
    "\n",
    "## This `with' block ensures sockets and iperf subprocesses are\n",
    "## closed correctly when the script ends, even if exceptions are raised\n",
    "c = ssm.instruments.MiniCircuitsRCDAT('11604210008')\n",
    "e0 = ssm.instruments.MiniCircuitsRCDAT('11604210014')\n",
    "iperf_client = ssm.software.IPerf('10.0.0.3', bind='10.0.0.2', interval=0.1)\n",
    "iperf_server = ssm.software.IPerf(bind='10.0.0.3')\n",
    "wlan = ssm.software.WLANStatus('Wi-Fi', ssid='Engenius1')\n",
    "db = lb.StatesToSQLite(time.strftime(\"%Y-%m-%d-%H%M%S\"))\n",
    "\n",
    "import time\n",
    "t0 = time.time()\n",
    "with lb.concurrently(c, e0, iperf_client, iperf_server, wlan, db):\n",
    "    # Log all state changes in lte_laa and each client in iperf_clients\n",
    "    db.observe_states([c,e0,iperf_server,iperf_client,wlan])\n",
    "\n",
    "    # Only need to do this if there is a variable attenuator in the test setup\n",
    "    # lte_enb_atten.state.attenuation = 20. # dB\n",
    "\n",
    "    print('Pausing for {}s setup time'.format(setup_time))\n",
    "    c.state.attenuation = 30\n",
    "    e0.state.attenuation = 110\n",
    "    iperf_server.start()\n",
    "    iperf_client.start()\n",
    "    time.sleep(setup_time)\n",
    "    df=iperf_client.fetch()\n",
    "    df_server=iperf_server.fetch()\n",
    "    \n",
    "#     row = {}\n",
    "#     i = 0\n",
    "#     for c.state.attenuation, e0.state.attenuation in sweep_points:\n",
    "#         i += 1\n",
    "#         print('{}/{}: atten C {} dB, atten E0 {} dB'\\\n",
    "#               .format(i, len(sweep_points), c.state.attenuation, e0.state.attenuation))\n",
    "            \n",
    "#         time.sleep(acquisition_time)\n",
    "        \n",
    "#         for sample,row in iperf_client.fetch().iterrows():\n",
    "#             db.append(**row.to_dict())\n",
    "#         db.write()\n",
    "\n",
    "# # # Load the sqlite database and save a copy into a csv\n",
    "# df = lb.read_sqlite(db_path)\n",
    "# df.to_csv(db_path+'.csv')"
   ]
  },
  {
   "cell_type": "code",
   "execution_count": 8,
   "metadata": {},
   "outputs": [
    {
     "data": {
      "text/plain": [
       "['-n', '-1', '-y', 'C']"
      ]
     },
     "execution_count": 8,
     "metadata": {},
     "output_type": "execute_result"
    }
   ],
   "source": [
    "iperf_client.settings.arguments"
   ]
  },
  {
   "cell_type": "code",
   "execution_count": 3,
   "metadata": {},
   "outputs": [
    {
     "name": "stdout",
     "output_type": "stream",
     "text": [
      "tr default is  ['hi']\n"
     ]
    }
   ],
   "source": [
    "import traitlets as tl\n",
    "tr = lb.List(default_value=['hi'])\n",
    "print('tr default is ', tr.default_value)"
   ]
  },
  {
   "cell_type": "code",
   "execution_count": 4,
   "metadata": {},
   "outputs": [
    {
     "data": {
      "text/plain": [
       "(list, tuple, set, frozenset)"
      ]
     },
     "execution_count": 4,
     "metadata": {},
     "output_type": "execute_result"
    }
   ],
   "source": [
    "tr = tl.List(trait=tl.Unicode(), default_value=['7'])\n",
    "tr._valid_defaults"
   ]
  },
  {
   "cell_type": "code",
   "execution_count": 5,
   "metadata": {},
   "outputs": [
    {
     "data": {
      "text/plain": [
       "'4.3.2'"
      ]
     },
     "execution_count": 5,
     "metadata": {},
     "output_type": "execute_result"
    }
   ],
   "source": [
    "tl.__version__"
   ]
  }
 ],
 "metadata": {
  "kernelspec": {
   "display_name": "Python 3",
   "language": "python",
   "name": "python3"
  },
  "language_info": {
   "codemirror_mode": {
    "name": "ipython",
    "version": 3
   },
   "file_extension": ".py",
   "mimetype": "text/x-python",
   "name": "python",
   "nbconvert_exporter": "python",
   "pygments_lexer": "ipython3",
   "version": "3.6.5"
  }
 },
 "nbformat": 4,
 "nbformat_minor": 2
}
