{
 "cells": [
  {
   "cell_type": "markdown",
   "metadata": {},
   "source": [
    "# Data Acquisition Example: Testing WLAN Client Receiver System Noise\n",
    "\n",
    "Test data for WLAN is implemented with the the iperf support in [ssmdevices](https://gitlab.nist.gov/ssm/ssmdevices). It produces many more columns of data than we need, so we just use the two defined in `ipc_columns`: throughput and a timestamp.\n",
    "\n",
    "The results of the tests and the corresponding test conditions are stored in a [flat database](https://en.wikipedia.org/wiki/Flat_file_database) stored in SQLite format. It is implemented as a typical intended use case of `labbench.RelationalDataInSQLite`. The test conditions are implemented as states in the attenuators, `iperf`, and `wlan`, so all we need to log these results into the database is to add the `db.on_set` call. Any states that are changed after that function call (for example, with the for loops in the acquisition code) become columns in the database; these values are automatically kept up to date and written to the database on calls to `db.write`."
   ]
  },
  {
   "cell_type": "code",
   "execution_count": 2,
   "metadata": {},
   "outputs": [
    {
     "name": "stdout",
     "output_type": "stream",
     "text": [
      "Populating the interactive namespace from numpy and matplotlib\n"
     ]
    },
    {
     "name": "stderr",
     "output_type": "stream",
     "text": [
      "\u001b[32m2018-11-02 16:17:14.659\u001b[0m - \u001b[30mINFO\u001b[0m - Connected in 0.68s\n"
     ]
    },
    {
     "data": {
      "application/vnd.jupyter.widget-view+json": {
       "model_id": "",
       "version_major": 2,
       "version_minor": 0
      },
      "text/plain": [
       "Tab(children=(VBox(children=(HBox(children=(HBox(children=(HTML(value=''),)), HBox(children=(HTML(value=''),))…"
      ]
     },
     "metadata": {},
     "output_type": "display_data"
    },
    {
     "name": "stderr",
     "output_type": "stream",
     "text": [
      "C:\\Users\\dkuester\\AppData\\Local\\Continuum\\anaconda3\\lib\\site-packages\\pandas\\core\\indexes\\api.py:107: RuntimeWarning: '<' not supported between instances of 'str' and 'int', sort order is undefined for incomparable objects\n",
      "  result = result.union(other)\n"
     ]
    },
    {
     "data": {
      "application/vnd.jupyter.widget-view+json": {
       "model_id": "c79bbdba41f942a5b4770357a45a9797",
       "version_major": 2,
       "version_minor": 0
      },
      "text/plain": [
       "VBox(children=(HTML(value=''), IntProgress(value=0, max=462)))"
      ]
     },
     "metadata": {},
     "output_type": "display_data"
    },
    {
     "name": "stderr",
     "output_type": "stream",
     "text": [
      "C:\\Users\\dkuester\\AppData\\Local\\Continuum\\anaconda3\\lib\\site-packages\\pandas\\core\\frame.py:6211: FutureWarning: Sorting because non-concatenation axis is not aligned. A future version\n",
      "of pandas will change to not sort by default.\n",
      "\n",
      "To accept the future behavior, pass 'sort=False'.\n",
      "\n",
      "To retain the current behavior and silence the warning, pass 'sort=True'.\n",
      "\n",
      "  sort=sort)\n"
     ]
    },
    {
     "name": "stdout",
     "output_type": "stream",
     "text": [
      "finished iteration  0\n"
     ]
    },
    {
     "data": {
      "application/vnd.jupyter.widget-view+json": {
       "model_id": "59162351445b4571b8760106597a373d",
       "version_major": 2,
       "version_minor": 0
      },
      "text/plain": [
       "Tab(children=(VBox(children=(HBox(children=(HBox(children=(HTML(value=''),)), HBox(children=(HTML(value=''),))…"
      ]
     },
     "metadata": {},
     "output_type": "display_data"
    },
    {
     "data": {
      "application/vnd.jupyter.widget-view+json": {
       "model_id": "f3b6f2a692144f2496cfbf7225b3899f",
       "version_major": 2,
       "version_minor": 0
      },
      "text/plain": [
       "VBox(children=(HTML(value=''), IntProgress(value=0, max=462)))"
      ]
     },
     "metadata": {},
     "output_type": "display_data"
    },
    {
     "name": "stdout",
     "output_type": "stream",
     "text": [
      "finished iteration  1\n"
     ]
    }
   ],
   "source": [
    "# This should be run in python 3.6.x from the computer connected to the AP side\n",
    "\n",
    "%pylab inline\n",
    "import time,os\n",
    "import ssmdevices as ssm\n",
    "import labbench as lb\n",
    "import pandas as pd\n",
    "\n",
    "def meshpoints (x1, x2, *args):\n",
    "    ''' For input of N-dimensions of grid point vectors (x1, x2, ..., xN),\n",
    "        where each (x1, x2, ... xN) has dimension (M1, M2, ..., MN),\n",
    "        returns an array with shape (M1*M2*...*MN,N) that consists of the\n",
    "        unique points in the multi-dimensional grid with sampled at\n",
    "        the vector points (x1, x2, ..., xN) in each axis. This is also known\n",
    "        as the the cartesian product of (x1 ... xN).\n",
    "    '''\n",
    "    ret = np.array(np.meshgrid(*((x1,x2)+args)))\n",
    "    return ret.reshape([ret.shape[0],np.prod(ret.shape[1:])]).T\n",
    "\n",
    "setup_time = 5 # seconds\n",
    "acquisition_time = 30 #  seconds\n",
    "\n",
    "# iperf_columns       = ['iperf_bits_per_second','iperf_timestamp']\n",
    "sweep_points       = meshpoints(list(range(55,76,1)),[110]+list(range(0,21,1)))\n",
    "\n",
    "lb.show_messages('info')\n",
    "\n",
    "class Testbed(lb.Testbed):\n",
    "    def make(self):\n",
    "        ''' lb.Testbed calls this automatically when we call Testbed(config)\n",
    "        '''\n",
    "        self.c = ssm.instruments.MiniCircuitsRCDAT('11604210008')\n",
    "        self.e0 = ssm.instruments.MiniCircuitsRCDAT('11604210014')\n",
    "        self.iperf_client = ssm.software.IPerf('10.0.0.2', bind='10.0.0.3', port=5010, interval=0.1, buffer_size=64, tcp_window_size=4096)\n",
    "        self.iperf_server = ssm.software.IPerf(bind='10.0.0.2', port=5010, buffer_size=64, tcp_window_size=4096)\n",
    "        self.wlan = ssm.software.WLANStatus('Wi-Fi', ssid='EnGenius1')\n",
    "        self.db = lb.StatesToSQLite(time.strftime(\"%Y-%m-%d-%H%M%S with shuffle and absorber\"))\n",
    "        self.dc_power = ssm.instruments.RigolDP800Series('USB0::0x1AB1::0x0E11::DP8C180200079::INSTR')\n",
    "\n",
    "        # Log all state changes in lte_laa and each client in iperf_clients\n",
    "        self.db.observe_states([self.c,self.e0,self.iperf_server,self.iperf_client,self.wlan])\n",
    "        \n",
    "    def acquire(self, duration):\n",
    "        ''' acquire for `duration` seconds and return a dictionary of\n",
    "            client and server data frames\n",
    "        '''\n",
    "        # Cycle through port in iperf server & client to avoid some strange\n",
    "        # errors involving stale ports in windows\n",
    "        p = self.iperf_server.settings.port\n",
    "        self.iperf_client.settings.port = self.iperf_server.settings.port = p+1            \n",
    "        \n",
    "        self.iperf_server.start()\n",
    "        self.iperf_client.start()\n",
    "\n",
    "        lb.logger.info('acquiring for {}s'.format(duration))\n",
    "        lb.sleep(duration)\n",
    "\n",
    "        client = self.iperf_client.fetch()\n",
    "        server = self.iperf_server.fetch()\n",
    "\n",
    "        lb.logger.debug('  iperf_client and server returned {} and {} rows'\\\n",
    "                       .format(len(client),len(server)))\n",
    "\n",
    "        self.iperf_server.kill()\n",
    "        self.iperf_client.kill()\n",
    "        \n",
    "        return {'iperf_client': client,\n",
    "                'iperf_server': server}\n",
    "\n",
    "    def startup(self):\n",
    "        lb.panel(self, ncols=6) # Heads-up display for the notebook\n",
    "        \n",
    "        # Noise source sanity checks\n",
    "        if not self.dc_power.state.enable1:\n",
    "            raise ValueError('noise source power supply is off. check voltage setting, connect, and turn on')\n",
    "        if self.dc_power.state.voltage1 < 10:\n",
    "            raise ValueError('noise source voltage supply setting is low, {}V'\\\n",
    "                             .format(self.dc_power.state.voltage1))\n",
    "        if self.dc_power.state.current1 < 0.07:\n",
    "            raise ValueError('noise source current draw is low, {}A. check connections'\\\n",
    "                             .format(self.dc_power.state.current1))\n",
    "        \n",
    "        lb.logger.info('setup start')\n",
    "        self.t0 = time.time()\n",
    "        \n",
    "        self.wlan.interface_disconnect()\n",
    "        \n",
    "        self.c.state.attenuation = 50\n",
    "        self.e0.state.attenuation = 110\n",
    "        \n",
    "        # Throwaway acquisition to get into a favorable state\n",
    "        self.acquire(setup_time)    \n",
    "        lb.logger.info('setup done')\n",
    "\n",
    "    def cleanup(self):\n",
    "        # End any stale iperf processes in the correct order\n",
    "        self.iperf_server.kill()\n",
    "        self.iperf_client.kill()\n",
    "        \n",
    "        # Leave attenuators in a sensible state\n",
    "        self.c.state.attenuation = 50\n",
    "        self.e0.state.attenuation = 110\n",
    "        \n",
    "        # Load the sqlite database and save a copy into a csv\n",
    "        df = lb.read(os.path.join(self.db.path, 'master.db'))\n",
    "        df.to_csv(os.path.join(self.db.path,'master.csv'))\n",
    "        \n",
    "        # Flatten the iperf result\n",
    "        lb.logger.info('expanding iperf result into summary output')\n",
    "        df = lb.read_relational(os.path.join(self.db.path, 'master.db'),\n",
    "                                'iperf_client', prepend_column_name=False,\n",
    "                                target_cols=['iperf_destination_address','iperf_destination_port', 'iperf_bits_per_second', 'iperf_timestamp'],)\n",
    "        df.to_csv(os.path.join(self.db.path, 'summary.csv'))\n",
    "        lb.to_feather(df, os.path.join(self.db.path, 'summary.feather'))\n",
    "        \n",
    "        lb.logger.info('finished with testbed after {}s'\\\n",
    "                       .format(time.time()-self.t0))\n",
    "\n",
    "for i in range(2):\n",
    "    states = {}\n",
    "\n",
    "    np.random.shuffle(sweep_points)\n",
    "    \n",
    "    # This `with' block ensures sockets and iperf subprocesses are\n",
    "    # closed correctly when the script ends, even if exceptions are raised\n",
    "    with Testbed() as testbed:\n",
    "        for testbed.c.state.attenuation, testbed.e0.state.attenuation\\\n",
    "            in lb.log_progress(sweep_points):\n",
    "\n",
    "            try:\n",
    "                row = {}                \n",
    "                testbed.wlan.interface_reconnect(5)     # Fresh connection\n",
    "                row = testbed.acquire(acquisition_time)\n",
    "            except TimeoutError as e:\n",
    "                # Blank data\n",
    "                lb.logger.debug(str(e))\n",
    "                lb.logger.debug('No connection to AP - skipping data acquisition')\n",
    "            finally:\n",
    "                # Update all WLAN states before append \n",
    "                testbed.wlan.refresh()\n",
    "                testbed.db.append(row)\n",
    "                testbed.db.write()\n",
    "        print('finished iteration ',i)"
   ]
  }
 ],
 "metadata": {
  "kernelspec": {
   "display_name": "Python 3",
   "language": "python",
   "name": "python3"
  },
  "language_info": {
   "codemirror_mode": {
    "name": "ipython",
    "version": 3
   },
   "file_extension": ".py",
   "mimetype": "text/x-python",
   "name": "python",
   "nbconvert_exporter": "python",
   "pygments_lexer": "ipython3",
   "version": "3.6.7"
  }
 },
 "nbformat": 4,
 "nbformat_minor": 2
}
