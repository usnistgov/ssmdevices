{
 "cells": [
  {
   "cell_type": "markdown",
   "metadata": {},
   "source": [
    "# Data Acquisition Example: Testing WLAN Client Receiver System Noise\n",
    "\n",
    "Test data for WLAN is implemented with the the iperf support in [ssmdevices](https://gitlab.nist.gov/ssm/ssmdevices). It produces many more columns of data than we need, so we just use the two defined in `ipc_columns`: throughput and a timestamp.\n",
    "\n",
    "The results of the tests and the corresponding test conditions are stored in a [flat database](https://en.wikipedia.org/wiki/Flat_file_database) stored in SQLite format. It is implemented as a typical intended use case of `labbench.RelationalDataInSQLite`. The test conditions are implemented as states in the attenuators, `iperf`, and `wlan`, so all we need to log these results into the database is to add the `db.on_set` call. Any states that are changed after that function call (for example, with the for loops in the acquisition code) become columns in the database; these values are automatically kept up to date and written to the database on calls to `db.write`."
   ]
  },
  {
   "cell_type": "code",
   "execution_count": 2,
   "metadata": {},
   "outputs": [
    {
     "name": "stdout",
     "output_type": "stream",
     "text": [
      "Populating the interactive namespace from numpy and matplotlib\n"
     ]
    },
    {
     "name": "stderr",
     "output_type": "stream",
     "text": [
      "\u001b[32m2018-11-08 10:52:46.730\u001b[0m - \u001b[30mINFO\u001b[0m - MiniCircuitsRCDAT('11604210008') - connected to RCDAT-6000-110 with serial 11604210008\n",
      "\u001b[32m2018-11-08 10:52:46.761\u001b[0m - \u001b[30mINFO\u001b[0m - MiniCircuitsRCDAT('11604210014') - connected to RCDAT-6000-110 with serial 11604210014\n",
      "\u001b[32m2018-11-08 10:52:47.470\u001b[0m - \u001b[30mINFO\u001b[0m - Connected in 0.84s\n"
     ]
    },
    {
     "data": {
      "application/vnd.jupyter.widget-view+json": {
       "model_id": "0232ceace6124ae29de6bd13fdc300cb",
       "version_major": 2,
       "version_minor": 0
      },
      "text/plain": [
       "Tab(children=(VBox(children=(HBox(children=(HBox(children=(HTML(value=''),)), HBox(children=(HTML(value=''),))…"
      ]
     },
     "metadata": {},
     "output_type": "display_data"
    },
    {
     "data": {
      "application/vnd.jupyter.widget-view+json": {
       "model_id": "9f0a51fec9964bf58cbe8682fa0867b4",
       "version_major": 2,
       "version_minor": 0
      },
      "text/plain": [
       "VBox(children=(HTML(value=''), IntProgress(value=0, max=20)))"
      ]
     },
     "metadata": {},
     "output_type": "display_data"
    },
    {
     "data": {
      "application/vnd.jupyter.widget-view+json": {
       "model_id": "13bfac2351394c4ab90e00419a006a40",
       "version_major": 2,
       "version_minor": 0
      },
      "text/plain": [
       "VBox(children=(HTML(value=''), IntProgress(value=0, max=462)))"
      ]
     },
     "metadata": {},
     "output_type": "display_data"
    },
    {
     "data": {
      "application/vnd.jupyter.widget-view+json": {
       "model_id": "b4ea63a383934cdb8b25b8e75ff7354c",
       "version_major": 2,
       "version_minor": 0
      },
      "text/plain": [
       "VBox(children=(HTML(value=''), IntProgress(value=0, max=462)))"
      ]
     },
     "metadata": {},
     "output_type": "display_data"
    },
    {
     "data": {
      "application/vnd.jupyter.widget-view+json": {
       "model_id": "70e79045e40748c2b89f121570a83980",
       "version_major": 2,
       "version_minor": 0
      },
      "text/plain": [
       "VBox(children=(HTML(value=''), IntProgress(value=0, max=462)))"
      ]
     },
     "metadata": {},
     "output_type": "display_data"
    },
    {
     "data": {
      "application/vnd.jupyter.widget-view+json": {
       "model_id": "f65c0f638e024fde9cf7b2991afde84f",
       "version_major": 2,
       "version_minor": 0
      },
      "text/plain": [
       "VBox(children=(HTML(value=''), IntProgress(value=0, max=462)))"
      ]
     },
     "metadata": {},
     "output_type": "display_data"
    },
    {
     "data": {
      "application/vnd.jupyter.widget-view+json": {
       "model_id": "59c581d758474c79872510d20fd7f020",
       "version_major": 2,
       "version_minor": 0
      },
      "text/plain": [
       "VBox(children=(HTML(value=''), IntProgress(value=0, max=462)))"
      ]
     },
     "metadata": {},
     "output_type": "display_data"
    },
    {
     "data": {
      "application/vnd.jupyter.widget-view+json": {
       "model_id": "d605b322d3364d46af0c29ce81e74520",
       "version_major": 2,
       "version_minor": 0
      },
      "text/plain": [
       "VBox(children=(HTML(value=''), IntProgress(value=0, max=462)))"
      ]
     },
     "metadata": {},
     "output_type": "display_data"
    },
    {
     "ename": "AttributeError",
     "evalue": "'NoneType' object has no attribute 'pid'",
     "output_type": "error",
     "traceback": [
      "\u001b[1;31m---------------------------------------------------------------------------\u001b[0m",
      "\u001b[1;31mAttributeError\u001b[0m                            Traceback (most recent call last)",
      "\u001b[1;32m<ipython-input-2-1d3e50b8148b>\u001b[0m in \u001b[0;36m<module>\u001b[1;34m\u001b[0m\n\u001b[0;32m    138\u001b[0m                 \u001b[0mrow\u001b[0m \u001b[1;33m=\u001b[0m \u001b[1;33m{\u001b[0m\u001b[1;34m'repeat'\u001b[0m\u001b[1;33m:\u001b[0m \u001b[0mi\u001b[0m\u001b[1;33m}\u001b[0m\u001b[1;33m\u001b[0m\u001b[1;33m\u001b[0m\u001b[0m\n\u001b[0;32m    139\u001b[0m                 \u001b[0mtestbed\u001b[0m\u001b[1;33m.\u001b[0m\u001b[0mwlan\u001b[0m\u001b[1;33m.\u001b[0m\u001b[0minterface_reconnect\u001b[0m\u001b[1;33m(\u001b[0m\u001b[1;36m5\u001b[0m\u001b[1;33m)\u001b[0m     \u001b[1;31m# Fresh connection\u001b[0m\u001b[1;33m\u001b[0m\u001b[1;33m\u001b[0m\u001b[0m\n\u001b[1;32m--> 140\u001b[1;33m                 \u001b[0mrow\u001b[0m \u001b[1;33m=\u001b[0m \u001b[0mtestbed\u001b[0m\u001b[1;33m.\u001b[0m\u001b[0macquire\u001b[0m\u001b[1;33m(\u001b[0m\u001b[0macquisition_time\u001b[0m\u001b[1;33m)\u001b[0m\u001b[1;33m\u001b[0m\u001b[1;33m\u001b[0m\u001b[0m\n\u001b[0m\u001b[0;32m    141\u001b[0m             \u001b[1;32mexcept\u001b[0m \u001b[0mTimeoutError\u001b[0m \u001b[1;32mas\u001b[0m \u001b[0me\u001b[0m\u001b[1;33m:\u001b[0m\u001b[1;33m\u001b[0m\u001b[1;33m\u001b[0m\u001b[0m\n\u001b[0;32m    142\u001b[0m                 \u001b[1;31m# Blank data\u001b[0m\u001b[1;33m\u001b[0m\u001b[1;33m\u001b[0m\u001b[1;33m\u001b[0m\u001b[0m\n",
      "\u001b[1;32m~\\AppData\\Local\\Continuum\\anaconda3\\lib\\site-packages\\labbench\\util.py\u001b[0m in \u001b[0;36mdo_retry\u001b[1;34m(*args, **kwargs)\u001b[0m\n\u001b[0;32m    100\u001b[0m             \u001b[1;32mfor\u001b[0m \u001b[0mretry\u001b[0m \u001b[1;32min\u001b[0m \u001b[0mrange\u001b[0m\u001b[1;33m(\u001b[0m\u001b[0mtries\u001b[0m\u001b[1;33m)\u001b[0m\u001b[1;33m:\u001b[0m\u001b[1;33m\u001b[0m\u001b[1;33m\u001b[0m\u001b[0m\n\u001b[0;32m    101\u001b[0m                 \u001b[1;32mtry\u001b[0m\u001b[1;33m:\u001b[0m\u001b[1;33m\u001b[0m\u001b[1;33m\u001b[0m\u001b[0m\n\u001b[1;32m--> 102\u001b[1;33m                     \u001b[0mret\u001b[0m \u001b[1;33m=\u001b[0m \u001b[0mf\u001b[0m\u001b[1;33m(\u001b[0m\u001b[1;33m*\u001b[0m\u001b[0margs\u001b[0m\u001b[1;33m,\u001b[0m \u001b[1;33m**\u001b[0m\u001b[0mkwargs\u001b[0m\u001b[1;33m)\u001b[0m\u001b[1;33m\u001b[0m\u001b[1;33m\u001b[0m\u001b[0m\n\u001b[0m\u001b[0;32m    103\u001b[0m                 \u001b[1;32mexcept\u001b[0m \u001b[0mexception_or_exceptions\u001b[0m \u001b[1;32mas\u001b[0m \u001b[0me\u001b[0m\u001b[1;33m:\u001b[0m\u001b[1;33m\u001b[0m\u001b[1;33m\u001b[0m\u001b[0m\n\u001b[0;32m    104\u001b[0m                     \u001b[0mex\u001b[0m \u001b[1;33m=\u001b[0m \u001b[0me\u001b[0m\u001b[1;33m\u001b[0m\u001b[1;33m\u001b[0m\u001b[0m\n",
      "\u001b[1;32m<ipython-input-2-1d3e50b8148b>\u001b[0m in \u001b[0;36macquire\u001b[1;34m(self, duration)\u001b[0m\n\u001b[0;32m     71\u001b[0m         \u001b[1;32mfinally\u001b[0m\u001b[1;33m:\u001b[0m\u001b[1;33m\u001b[0m\u001b[1;33m\u001b[0m\u001b[0m\n\u001b[0;32m     72\u001b[0m             \u001b[0mself\u001b[0m\u001b[1;33m.\u001b[0m\u001b[0miperf_server\u001b[0m\u001b[1;33m.\u001b[0m\u001b[0mkill\u001b[0m\u001b[1;33m(\u001b[0m\u001b[1;33m)\u001b[0m\u001b[1;33m\u001b[0m\u001b[1;33m\u001b[0m\u001b[0m\n\u001b[1;32m---> 73\u001b[1;33m             \u001b[0mself\u001b[0m\u001b[1;33m.\u001b[0m\u001b[0miperf_client\u001b[0m\u001b[1;33m.\u001b[0m\u001b[0mkill\u001b[0m\u001b[1;33m(\u001b[0m\u001b[1;33m)\u001b[0m\u001b[1;33m\u001b[0m\u001b[1;33m\u001b[0m\u001b[0m\n\u001b[0m\u001b[0;32m     74\u001b[0m \u001b[1;33m\u001b[0m\u001b[0m\n\u001b[0;32m     75\u001b[0m         return {'iperf_client': client,\n",
      "\u001b[1;32m~\\AppData\\Local\\Continuum\\anaconda3\\lib\\site-packages\\labbench\\backends.py\u001b[0m in \u001b[0;36mkill\u001b[1;34m(self)\u001b[0m\n\u001b[0;32m    363\u001b[0m         \u001b[0mself\u001b[0m\u001b[1;33m.\u001b[0m\u001b[0m__kill\u001b[0m \u001b[1;33m=\u001b[0m \u001b[1;32mTrue\u001b[0m\u001b[1;33m\u001b[0m\u001b[1;33m\u001b[0m\u001b[0m\n\u001b[0;32m    364\u001b[0m         \u001b[1;32mif\u001b[0m \u001b[0mself\u001b[0m\u001b[1;33m.\u001b[0m\u001b[0mrunning\u001b[0m\u001b[1;33m(\u001b[0m\u001b[1;33m)\u001b[0m\u001b[1;33m:\u001b[0m\u001b[1;33m\u001b[0m\u001b[1;33m\u001b[0m\u001b[0m\n\u001b[1;32m--> 365\u001b[1;33m             \u001b[0mself\u001b[0m\u001b[1;33m.\u001b[0m\u001b[0m_kill_proc_tree\u001b[0m\u001b[1;33m(\u001b[0m\u001b[0mself\u001b[0m\u001b[1;33m.\u001b[0m\u001b[0mbackend\u001b[0m\u001b[1;33m.\u001b[0m\u001b[0mpid\u001b[0m\u001b[1;33m)\u001b[0m\u001b[1;33m\u001b[0m\u001b[1;33m\u001b[0m\u001b[0m\n\u001b[0m\u001b[0;32m    366\u001b[0m         \u001b[1;32melse\u001b[0m\u001b[1;33m:\u001b[0m\u001b[1;33m\u001b[0m\u001b[1;33m\u001b[0m\u001b[0m\n\u001b[0;32m    367\u001b[0m             \u001b[0mself\u001b[0m\u001b[1;33m.\u001b[0m\u001b[0mlogger\u001b[0m\u001b[1;33m.\u001b[0m\u001b[0mwarning\u001b[0m\u001b[1;33m(\u001b[0m\u001b[1;34m'tried kill(), but no process is running'\u001b[0m\u001b[1;33m)\u001b[0m\u001b[1;33m\u001b[0m\u001b[1;33m\u001b[0m\u001b[0m\n",
      "\u001b[1;31mAttributeError\u001b[0m: 'NoneType' object has no attribute 'pid'"
     ]
    }
   ],
   "source": [
    "%pylab inline\n",
    "import time,os\n",
    "import ssmdevices as ssm\n",
    "import labbench as lb\n",
    "import pandas as pd\n",
    "\n",
    "def meshpoints (x1, x2, *args):\n",
    "    ''' For input of N-dimensions of grid point vectors (x1, x2, ..., xN),\n",
    "        where each (x1, x2, ... xN) has dimension (M1, M2, ..., MN),\n",
    "        returns an array with shape (M1*M2*...*MN,N) that consists of the\n",
    "        unique points in the multi-dimensional grid with sampled at\n",
    "        the vector points (x1, x2, ..., xN) in each axis. This is also known\n",
    "        as the the cartesian product of (x1 ... xN).\n",
    "    '''\n",
    "    ret = np.array(np.meshgrid(*((x1,x2)+args)))\n",
    "    return ret.reshape([ret.shape[0],np.prod(ret.shape[1:])]).T\n",
    "\n",
    "setup_time = 5 # seconds\n",
    "acquisition_time = 12 #  seconds\n",
    "\n",
    "# iperf_columns       = ['iperf_bits_per_second','iperf_timestamp']\n",
    "sweep_points       = meshpoints(list(range(55,76,1)),[110]+list(range(0,21,1)))\n",
    "\n",
    "lb.show_messages('info')\n",
    "\n",
    "class Retry(Exception):\n",
    "    pass\n",
    "\n",
    "class Testbed(lb.Testbed):\n",
    "    def make(self):\n",
    "        ''' lb.Testbed calls this automatically when we call Testbed(config)\n",
    "        '''\n",
    "        self.c = ssm.instruments.MiniCircuitsRCDAT('11604210008')\n",
    "        self.e0 = ssm.instruments.MiniCircuitsRCDAT('11604210014')\n",
    "        self.iperf_client = ssm.software.IPerf('10.0.0.2', bind='10.0.0.3', port=5010,\n",
    "                                               interval=0.05, buffer_size=16)\n",
    "        self.iperf_server = ssm.software.IPerf(bind='10.0.0.2', port=5010, buffer_size=16)\n",
    "        self.wlan = ssm.software.WLANStatus('Wi-Fi', ssid='EnGenius1')\n",
    "        self.db = lb.StatesToSQLite(time.strftime(\"%Y-%m-%d-%H%M%S with shuffle and absorber\"))\n",
    "        self.dc_power = ssm.instruments.RigolDP800Series('USB0::0x1AB1::0x0E11::DP8C180200079::INSTR')\n",
    "\n",
    "        # Log all state changes in lte_laa and each client in iperf_clients\n",
    "        self.db.observe_states([self.c,self.e0,self.iperf_server,self.iperf_client,self.wlan])\n",
    "    \n",
    "    @lb.retry(Retry, 3)    \n",
    "    def acquire(self, duration):\n",
    "        ''' acquire for `duration` seconds and return a dictionary of\n",
    "            client and server data frames\n",
    "        '''\n",
    "        # Cycle through port in iperf server & client to avoid some strange\n",
    "        # errors involving stale ports in windows\n",
    "        p = self.iperf_server.settings.port\n",
    "        self.iperf_client.settings.port = self.iperf_server.settings.port = p+1            \n",
    "        \n",
    "        try:\n",
    "            self.iperf_server.start()\n",
    "            self.iperf_client.start()\n",
    "\n",
    "            lb.logger.info('acquiring for {}s'.format(duration))\n",
    "            lb.sleep(duration)\n",
    "\n",
    "            if not self.iperf_client.running():\n",
    "                raise Retry('iperf stopped')\n",
    "\n",
    "            client = self.iperf_client.fetch()\n",
    "            server = self.iperf_server.fetch()\n",
    "\n",
    "            lb.logger.debug('  iperf_client and server returned {} and {} rows'\\\n",
    "                           .format(len(client),len(server)))\n",
    "\n",
    "        finally:\n",
    "            self.iperf_server.kill()\n",
    "            self.iperf_client.kill()\n",
    "        \n",
    "        return {'iperf_client': client,\n",
    "                'iperf_server': server}\n",
    "\n",
    "    def startup(self):\n",
    "        lb.panel(self, ncols=6) # Heads-up display for the notebook\n",
    "        \n",
    "        # Noise source sanity checks\n",
    "        if not self.dc_power.state.enable1:\n",
    "            raise ValueError('noise source power supply is off. check voltage setting, connect, and turn on')\n",
    "        if self.dc_power.state.voltage1 < 10:\n",
    "            raise ValueError('noise source voltage supply setting is low, {}V'\\\n",
    "                             .format(self.dc_power.state.voltage1))\n",
    "        if self.dc_power.state.current1 < 0.07:\n",
    "            raise ValueError('noise source current draw is low, {}A. check connections'\\\n",
    "                             .format(self.dc_power.state.current1))\n",
    "        \n",
    "        lb.logger.info('setup start')\n",
    "        self.t0 = time.time()\n",
    "        \n",
    "        self.wlan.interface_disconnect()\n",
    "        \n",
    "        self.c.state.attenuation = 50\n",
    "        self.e0.state.attenuation = 110\n",
    "        \n",
    "        # Throwaway acquisition to get into a favorable state\n",
    "#         self.acquire(setup_time)\n",
    "#         lb.logger.info('setup done')\n",
    "\n",
    "    def cleanup(self):\n",
    "        # End any stale iperf processes in the correct order\n",
    "        self.iperf_server.kill()\n",
    "        self.iperf_client.kill()\n",
    "        \n",
    "        # Leave attenuators in a sensible state\n",
    "        self.c.state.attenuation = 50\n",
    "        self.e0.state.attenuation = 110\n",
    "        \n",
    "        # Load the sqlite database and save a copy into a csv\n",
    "        df = lb.read(os.path.join(self.db.path, 'master.db'))\n",
    "        df.to_csv(os.path.join(self.db.path,'master.csv'))\n",
    "        \n",
    "        # Flatten the iperf result\n",
    "        lb.logger.info('expanding iperf result into summary output')\n",
    "        df = lb.read_relational(os.path.join(self.db.path, 'master.db'),\n",
    "                                'iperf_client', prepend_column_name=False,\n",
    "                                target_cols=['iperf_destination_address','iperf_destination_port', 'iperf_bits_per_second', 'iperf_timestamp'],)\n",
    "        df.to_csv(os.path.join(self.db.path, 'summary.csv'))\n",
    "        lb.to_feather(df, os.path.join(self.db.path, 'summary.feather'))\n",
    "\n",
    "        lb.logger.info('finished with testbed after {}s'\\\n",
    "                       .format(time.time()-self.t0))\n",
    "\n",
    "\n",
    "# This `with' block ensures sockets and iperf subprocesses are\n",
    "# closed correctly when the script ends, even if exceptions are raised\n",
    "with Testbed() as testbed:\n",
    "    for i in lb.range(20, title='repeat'):\n",
    "        np.random.shuffle(sweep_points)\n",
    "        \n",
    "        for testbed.c.state.attenuation, testbed.e0.state.attenuation\\\n",
    "          in lb.log_progress(sweep_points, title='attenuator iteration'):\n",
    "\n",
    "            try:\n",
    "                row = {'repeat': i}\n",
    "                testbed.wlan.interface_reconnect(5)     # Fresh connection\n",
    "                row = testbed.acquire(acquisition_time)               \n",
    "            except TimeoutError as e:\n",
    "                # Blank data\n",
    "                lb.logger.debug(str(e))\n",
    "                lb.logger.debug('No connection to AP - skipping data acquisition')\n",
    "            except Retry as e:\n",
    "                lb.logger.debug('Inconsistent iperf data - skipping data acquisition')\n",
    "            finally:\n",
    "                # Update all WLAN states before append\n",
    "                testbed.wlan.refresh()\n",
    "                testbed.db.append(row)\n",
    "                testbed.db.write()"
   ]
  },
  {
   "cell_type": "code",
   "execution_count": null,
   "metadata": {},
   "outputs": [],
   "source": [
    "# # Load the sqlite database and save a copy into a csv\n",
    "# df = lb.read(os.path.join(testbed.db.path, 'master.db'))\n",
    "# df.to_csv(os.path.join(testbed.db.path,'master.csv'))\n",
    "\n",
    "# # Flatten the iperf result\n",
    "# lb.logger.info('expanding iperf result into summary output')\n",
    "# df = lb.read_relational(os.path.join(testbed.db.path, 'master.db'),\n",
    "#                         'iperf_client', prepend_column_name=False,\n",
    "#                         target_cols=['iperf_destination_address','iperf_destination_port', 'iperf_bits_per_second', 'iperf_timestamp'],)\n",
    "# df.to_csv(os.path.join(testbed.db.path, 'summary.csv'))\n",
    "# lb.to_feather(df, os.path.join(testbed.db.path, 'summary.feather'))\n",
    "\n",
    "# lb.logger.info('finished with testbed after {}s'\\\n",
    "#                .format(time.time()-testbed.t0))"
   ]
  }
 ],
 "metadata": {
  "kernelspec": {
   "display_name": "Python 3",
   "language": "python",
   "name": "python3"
  },
  "language_info": {
   "codemirror_mode": {
    "name": "ipython",
    "version": 3
   },
   "file_extension": ".py",
   "mimetype": "text/x-python",
   "name": "python",
   "nbconvert_exporter": "python",
   "pygments_lexer": "ipython3",
   "version": "3.6.7"
  }
 },
 "nbformat": 4,
 "nbformat_minor": 2
}
