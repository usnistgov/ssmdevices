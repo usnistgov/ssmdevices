{
 "cells": [
  {
   "cell_type": "markdown",
   "metadata": {},
   "source": [
    "# Data Acquisition Example: Testing WLAN Client Receiver System Noise\n",
    "_By Dan Kuester_\n",
    "\n",
    "Test data for WLAN is implemented with the the iperf support in [ssmdevices](https://gitlab.nist.gov/ssm/ssmdevices). It produces many more columns of data than we need, so we just use the two defined in `ipc_columns`: throughput and a timestamp.\n",
    "\n",
    "The results of the tests and the corresponding test conditions are stored in a [flat database](https://en.wikipedia.org/wiki/Flat_file_database) stored in SQLite format. It is implemented as a typical intended use case of `labbench.RelationalDataInSQLite`. The test conditions are implemented as states in the attenuators, `iperf`, and `wlan`, so all we need to log these results into the database is to add the `db.on_set` call. Any states that are changed after that function call (for example, with the for loops in the acquisition code) become columns in the database; these values are automatically kept up to date and written to the database on calls to `db.write`."
   ]
  },
  {
   "cell_type": "code",
   "execution_count": 2,
   "metadata": {},
   "outputs": [
    {
     "name": "stdout",
     "output_type": "stream",
     "text": [
      "Populating the interactive namespace from numpy and matplotlib\n"
     ]
    },
    {
     "name": "stderr",
     "output_type": "stream",
     "text": [
      "\n",
      "Thread Traceback (most recent call last):\n",
      "  File \"C:\\Users\\dkuester\\AppData\\Local\\Continuum\\anaconda3\\lib\\site-packages\\labbench\\core.py\", line 606, in __enter__\n",
      "    self.connect()\n",
      "  File \"C:\\Users\\dkuester\\AppData\\Local\\Continuum\\anaconda3\\lib\\site-packages\\labbench\\core.py\", line 574, in __connect_wrapper__\n",
      "    ret = self.__wrapped__['connect'](*args, **kws)\n",
      "  File \"C:\\Users\\dkuester\\AppData\\Local\\Continuum\\anaconda3\\lib\\site-packages\\ssmdevices\\instruments\\attenuators.py\", line 42, in connect\n",
      "    raise Exception('Cannot connect to attenuator resource {}'.format(self.settings.resource))\n",
      "Exception: MiniCircuitsRCDAT('11604210008'): Cannot connect to attenuator resource 11604210008\n",
      "\n",
      "\n",
      "Thread Traceback (most recent call last):\n",
      "  File \"C:\\Users\\dkuester\\AppData\\Local\\Continuum\\anaconda3\\lib\\site-packages\\labbench\\core.py\", line 606, in __enter__\n",
      "    self.connect()\n",
      "  File \"C:\\Users\\dkuester\\AppData\\Local\\Continuum\\anaconda3\\lib\\site-packages\\labbench\\core.py\", line 574, in __connect_wrapper__\n",
      "    ret = self.__wrapped__['connect'](*args, **kws)\n",
      "  File \"C:\\Users\\dkuester\\AppData\\Local\\Continuum\\anaconda3\\lib\\site-packages\\ssmdevices\\instruments\\attenuators.py\", line 42, in connect\n",
      "    raise Exception('Cannot connect to attenuator resource {}'.format(self.settings.resource))\n",
      "Exception: MiniCircuitsRCDAT('11604210014'): Cannot connect to attenuator resource 11604210014\n",
      "\n",
      "\u001b[32m2018-08-24 16:01:22.575\u001b[0m - \u001b[30mDEBUG\u001b[0m - \u001b[32mWLANStatus('Wi-Fi') - starting WLAN reconnect watchdog\u001b[0m\n",
      "\u001b[32m2018-08-24 16:01:23.249\u001b[0m - \u001b[30mWARNING\u001b[0m - \u001b[33mIPerf('10.0.0.3') - tried kill(), but no process is running\u001b[0m\n",
      "\u001b[32m2018-08-24 16:01:23.249\u001b[0m - \u001b[30mWARNING\u001b[0m - \u001b[33mNetsh('None') - tried kill(), but no process is running\u001b[0m\n",
      "Traceback (most recent call last):\n",
      "  File \"C:\\Users\\dkuester\\AppData\\Local\\Continuum\\anaconda3\\lib\\site-packages\\IPython\\core\\interactiveshell.py\", line 2963, in run_code\n",
      "    exec(code_obj, self.user_global_ns, self.user_ns)\n",
      "  File \"<ipython-input-2-35ad0b2c86f3>\", line 41, in <module>\n",
      "    with lb.concurrently(c, e0, iperf, wlan, db):\n",
      "  File \"C:\\Users\\dkuester\\AppData\\Local\\Continuum\\anaconda3\\lib\\contextlib.py\", line 81, in __enter__\n",
      "    return next(self.gen)\n",
      "  File \"C:\\Users\\dkuester\\AppData\\Local\\Continuum\\anaconda3\\lib\\site-packages\\labbench\\util.py\", line 349, in concurrently_enter\n",
      "    raise exc[1]\n",
      "  File \"C:\\Users\\dkuester\\AppData\\Local\\Continuum\\anaconda3\\lib\\site-packages\\labbench\\util.py\", line 329, in concurrently_enter\n",
      "    ret = concurrently_call(*calls)\n",
      "labbench.util.ConcurrentException: 2 call raised exceptions\n"
     ]
    }
   ],
   "source": [
    "# This should be run in python 3.6.x from the computer connected to the AP side\n",
    "\n",
    "%pylab inline\n",
    "import time\n",
    "import ssmdevices as ssm\n",
    "import labbench as lb\n",
    "import pandas as pd\n",
    "\n",
    "def meshpoints (x1, x2, *args):\n",
    "    ''' For input of N-dimensions of grid point vectors (x1, x2, ..., xN),\n",
    "        where each (x1, x2, ... xN) has dimension (M1, M2, ..., MN),\n",
    "        returns an array with shape (M1*M2*...*MN,N) that consists of the\n",
    "        unique points in the multi-dimensional grid with sampled at\n",
    "        the vector points (x1, x2, ..., xN) in each axis. This is also known\n",
    "        as the the cartesian product of (x1 ... xN).\n",
    "    '''\n",
    "    ret = np.array(np.meshgrid(*((x1,x2)+args)))\n",
    "    return ret.reshape([ret.shape[0],np.prod(ret.shape[1:])]).T\n",
    "\n",
    "setup_time = 20 # seconds\n",
    "acquisition_time = 20 #  seconds\n",
    "\n",
    "iperf_columns       = ['iperf_bits_per_second','iperf_timestamp']\n",
    "sweep_points       = meshpoints(list(range(20,61,20)),[110]+list(range(0,41,40)))\n",
    "#np.random.shuffle(c_e0_points) # randomize?\n",
    "\n",
    "# db_path = '{}'.format(time.strftime(\"%Y-%m-%d-%HH-%MM\"))\n",
    "\n",
    "lb.show_messages('debug')\n",
    "\n",
    "## This `with' block ensures sockets and iperf subprocesses are\n",
    "## closed correctly when the script ends, even if exceptions are raised\n",
    "c = ssm.instruments.MiniCircuitsRCDAT('11604210008')\n",
    "e0 = ssm.instruments.MiniCircuitsRCDAT('11604210014')\n",
    "iperf = ssm.software.IPerf('10.0.0.3', interval=0.1)\n",
    "wlan = ssm.software.WLANStatus('Wi-Fi', ssid='Engenius1')\n",
    "db = lb.StatesToSQLite(time.strftime(\"%Y-%m-%d-%H%M%S\"), 'results')\n",
    "\n",
    "import time\n",
    "t0 = time.time()\n",
    "with lb.concurrently(c, e0, iperf, wlan, db):\n",
    "    # Log all state changes in lte_laa and each client in iperf_clients\n",
    "    db.observe([c,e0,iperf,wlan])\n",
    "\n",
    "    # Only need to do this if there is a variable attenuator in the test setup\n",
    "    # lte_enb_atten.state.attenuation = 20. # dB\n",
    "\n",
    "    print('Pausing for {}s setup time'.format(setup_time))\n",
    "    c.state.attenuation = 30\n",
    "    e0.state.attenuation = 110\n",
    "    time.sleep(setup_time)\n",
    "    df=iperf.fetch()\n",
    "    \n",
    "    row = {}\n",
    "    i = 0\n",
    "    for c.state.attenuation, e0.state.attenuation in sweep_points:\n",
    "        i += 1\n",
    "        print('{}/{}: atten C {} dB, atten E0 {} dB'\\\n",
    "              .format(i, len(sweep_points), c.state.attenuation, e0.state.attenuation))\n",
    "            \n",
    "        time.sleep(acquisition_time)\n",
    "        \n",
    "        for sample,row in iperf.fetch().iterrows():\n",
    "            db.append(**row.to_dict())\n",
    "        db.write()\n",
    "\n",
    "# # Load the sqlite database and save a copy into a csv\n",
    "df = lb.read_sqlite(db_path, 'results')\n",
    "df.to_csv(db_path+'.csv')"
   ]
  },
  {
   "cell_type": "code",
   "execution_count": null,
   "metadata": {},
   "outputs": [],
   "source": [
    "df"
   ]
  }
 ],
 "metadata": {
  "kernelspec": {
   "display_name": "Python 3",
   "language": "python",
   "name": "python3"
  },
  "language_info": {
   "codemirror_mode": {
    "name": "ipython",
    "version": 3
   },
   "file_extension": ".py",
   "mimetype": "text/x-python",
   "name": "python",
   "nbconvert_exporter": "python",
   "pygments_lexer": "ipython3",
   "version": "3.6.5"
  }
 },
 "nbformat": 4,
 "nbformat_minor": 2
}
