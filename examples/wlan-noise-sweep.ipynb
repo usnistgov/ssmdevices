{
 "cells": [
  {
   "cell_type": "markdown",
   "metadata": {},
   "source": [
    "# Data Acquisition Example: Testing WLAN Client Receiver System Noise\n",
    "\n",
    "Test data for WLAN is implemented with the the iperf support in [ssmdevices](https://gitlab.nist.gov/ssm/ssmdevices). It produces many more columns of data than we need, so we just use the two defined in `ipc_columns`: throughput and a timestamp.\n",
    "\n",
    "The results of the tests and the corresponding test conditions are stored in a [flat database](https://en.wikipedia.org/wiki/Flat_file_database) stored in SQLite format. It is implemented as a typical intended use case of `labbench.RelationalDataInSQLite`. The test conditions are implemented as states in the attenuators, `iperf`, and `wlan`, so all we need to log these results into the database is to add the `db.on_set` call. Any states that are changed after that function call (for example, with the for loops in the acquisition code) become columns in the database; these values are automatically kept up to date and written to the database on calls to `db.write`."
   ]
  },
  {
   "cell_type": "code",
   "execution_count": 1,
   "metadata": {},
   "outputs": [
    {
     "name": "stdout",
     "output_type": "stream",
     "text": [
      "Populating the interactive namespace from numpy and matplotlib\n"
     ]
    },
    {
     "data": {
      "application/vnd.jupyter.widget-view+json": {
       "model_id": "745ceab19cce497fae6ae89404f1345a",
       "version_major": 2,
       "version_minor": 0
      },
      "text/plain": [
       "Tab(children=(VBox(children=(HBox(children=(HBox(children=(HTML(value=''),)), HBox(children=(HTML(value=''),))…"
      ]
     },
     "metadata": {},
     "output_type": "display_data"
    },
    {
     "name": "stderr",
     "output_type": "stream",
     "text": [
      "C:\\Users\\dkuester\\AppData\\Local\\Continuum\\anaconda3\\lib\\site-packages\\pandas\\core\\indexes\\api.py:107: RuntimeWarning: '<' not supported between instances of 'str' and 'int', sort order is undefined for incomparable objects\n",
      "  result = result.union(other)\n"
     ]
    },
    {
     "data": {
      "application/vnd.jupyter.widget-view+json": {
       "model_id": "58d5d4e2aaa24eb1b116ba14bccbdf52",
       "version_major": 2,
       "version_minor": 0
      },
      "text/plain": [
       "VBox(children=(HTML(value=''), IntProgress(value=0, max=6)))"
      ]
     },
     "metadata": {},
     "output_type": "display_data"
    }
   ],
   "source": [
    "# This should be run in python 3.6.x from the computer connected to the AP side\n",
    "\n",
    "%pylab inline\n",
    "import time,os\n",
    "import ssmdevices as ssm\n",
    "import labbench as lb\n",
    "import pandas as pd\n",
    "\n",
    "def meshpoints (x1, x2, *args):\n",
    "    ''' For input of N-dimensions of grid point vectors (x1, x2, ..., xN),\n",
    "        where each (x1, x2, ... xN) has dimension (M1, M2, ..., MN),\n",
    "        returns an array with shape (M1*M2*...*MN,N) that consists of the\n",
    "        unique points in the multi-dimensional grid with sampled at\n",
    "        the vector points (x1, x2, ..., xN) in each axis. This is also known\n",
    "        as the the cartesian product of (x1 ... xN).\n",
    "    '''\n",
    "    ret = np.array(np.meshgrid(*((x1,x2)+args)))\n",
    "    return ret.reshape([ret.shape[0],np.prod(ret.shape[1:])]).T\n",
    "\n",
    "setup_time = 5 # seconds\n",
    "acquisition_time = 1 #  seconds\n",
    "\n",
    "# iperf_columns       = ['iperf_bits_per_second','iperf_timestamp']\n",
    "sweep_points       = meshpoints(list(range(55,76,20)),[110]+list(range(0,21,20)))\n",
    "\n",
    "# db_path = '{}'.format(time.strftime(\"%Y-%m-%d-%HH-%MM\"))\n",
    "\n",
    "lb.show_messages('info')\n",
    "\n",
    "\n",
    "def update(update):\n",
    "    states[update['name']] = update['new']\n",
    "\n",
    "import time\n",
    "\n",
    "for i in range(1):\n",
    "    t0 = time.time()\n",
    "    states = {}\n",
    "    \n",
    "    np.random.shuffle(sweep_points) # randomize?\n",
    "    \n",
    "    c = ssm.instruments.MiniCircuitsRCDAT('11604210008')\n",
    "    e0 = ssm.instruments.MiniCircuitsRCDAT('11604210014')\n",
    "    iperf_client = ssm.software.IPerf('10.0.0.2', bind='10.0.0.3', port=5010, interval=0.1)\n",
    "    iperf_server = ssm.software.IPerf(bind='10.0.0.2', port=5010)\n",
    "    wlan = ssm.software.WLANStatus('Wi-Fi', ssid='EnGenius1')\n",
    "    db = lb.StatesToSQLite(time.strftime(\"%Y-%m-%d-%H%M%S with shuffle and absorber\"))\n",
    "    \n",
    "    # Test progress heads-up display\n",
    "    lb.panel()\n",
    "    \n",
    "    # This `with' block ensures sockets and iperf subprocesses are\n",
    "    # closed correctly when the script ends, even if exceptions are raised\n",
    "    with lb.concurrently(c, e0, iperf_client, iperf_server, wlan, db):\n",
    "        try:\n",
    "            # Log all state changes in lte_laa and each client in iperf_clients\n",
    "            db.observe_states([c,e0,iperf_server,iperf_client,wlan])\n",
    "\n",
    "            # Only need to do this if there is a variable attenuator in the test setup\n",
    "            # lte_enb_atten.state.attenuation = 20. # dB\n",
    "\n",
    "            wlan.interface_disconnect()\n",
    "            c.state.attenuation = 30\n",
    "            e0.state.attenuation = 110\n",
    "\n",
    "            iperf_server.start()\n",
    "            iperf_client.start()\n",
    "\n",
    "            lb.logger.info('Pausing for {}s setup time'.format(setup_time))\n",
    "            lb.sleep(setup_time)\n",
    "\n",
    "            df=iperf_client.fetch()\n",
    "            df_server=iperf_server.fetch()\n",
    "\n",
    "            iperf_server.kill()\n",
    "            iperf_client.kill()\n",
    "\n",
    "            row = {}\n",
    "            i = 0\n",
    "\n",
    "            for c.state.attenuation, e0.state.attenuation in lb.log_progress(sweep_points):\n",
    "                p = iperf_server.settings.port\n",
    "                iperf_client.settings.port = iperf_server.settings.port = p+1            \n",
    "\n",
    "                i += 1\n",
    "                lb.logger.debug('{}/{}: atten C {} dB, atten E0 {} dB'\\\n",
    "                               .format(i, len(sweep_points), c.state.attenuation, e0.state.attenuation))\n",
    "\n",
    "                try:\n",
    "                    wlan.interface_disconnect(5)\n",
    "                except TimeoutError as e:\n",
    "                    lb.logger.debug(str(e))\n",
    "                    lb.logger.debug('Failed to disconnect from AP, continuing anyway')\n",
    "\n",
    "                try:\n",
    "                    # Connect\n",
    "                    wlan.interface_connect(5)\n",
    "                except TimeoutError as e:\n",
    "                    lb.logger.debug(str(e))\n",
    "                    lb.logger.debug('No connection to AP - skipping iperf')\n",
    "                    df = None                \n",
    "                else:\n",
    "                    # Acquire\n",
    "                    iperf_server.start()\n",
    "                    iperf_client.start()\n",
    "\n",
    "                    lb.sleep(acquisition_time)\n",
    "\n",
    "                    df = iperf_client.fetch()\n",
    "                    df_server = iperf_server.fetch()\n",
    "\n",
    "                    lb.logger.debug('  iperf_client and server returned {} and {} rows'\\\n",
    "                                   .format(len(df),len(df_server)))\n",
    "\n",
    "                    iperf_server.kill()\n",
    "                    iperf_client.kill()               \n",
    "                finally:\n",
    "                    # Update all WLAN states before append \n",
    "                    wlan.refresh()\n",
    "\n",
    "                    db.append(iperf_client=df)\n",
    "                    db.write()\n",
    "        finally:\n",
    "            iperf_server.kill()\n",
    "            iperf_client.kill()\n",
    "\n",
    "    # # # Load the sqlite database and save a copy into a csv\n",
    "    df = lb.read(os.path.join(db.path, 'master.db'))\n",
    "    df.to_csv(os.path.join(db.path,'master.csv'))"
   ]
  },
  {
   "cell_type": "code",
   "execution_count": null,
   "metadata": {},
   "outputs": [],
   "source": [
    "np.random.shuffle(sweep_points)"
   ]
  },
  {
   "cell_type": "code",
   "execution_count": null,
   "metadata": {},
   "outputs": [],
   "source": [
    "df = lb.read(r'C:/Users/dkuester/Documents/src/ssmdevices/examples/2018-10-30-141739 with shuffle and absorber/master.db')\n",
    "df2 = lb.read(r'C:\\Users\\dkuester\\Documents\\src\\ssmdevices\\examples\\2018-10-30-154819 with shuffle and absorber\\master.db')\n",
    "\n",
    "df=df.sort_values(['c_attenuation','e0_attenuation'])\n",
    "df2=df2.sort_values(['c_attenuation','e0_attenuation'])\n",
    "df=df.set_index(['c_attenuation','e0_attenuation'])\n",
    "df2=df2.set_index(['c_attenuation','e0_attenuation'])\n",
    "\n",
    "# i = (df['wlan_state']=='connected')&(df2['wlan_state']=='connected')\n",
    "\n",
    "(df['wlan_signal']-df2['wlan_signal']).hist(bins=20)\n",
    "print((df[i]['wlan_signal']-df2[i]['wlan_signal']).mad())"
   ]
  },
  {
   "cell_type": "code",
   "execution_count": null,
   "metadata": {},
   "outputs": [],
   "source": []
  },
  {
   "cell_type": "code",
   "execution_count": null,
   "metadata": {},
   "outputs": [],
   "source": [
    "df2"
   ]
  },
  {
   "cell_type": "code",
   "execution_count": null,
   "metadata": {},
   "outputs": [],
   "source": [
    "df2.sort_values(['c_attenuation','e0_attenuation'])"
   ]
  }
 ],
 "metadata": {
  "kernelspec": {
   "display_name": "Python 3",
   "language": "python",
   "name": "python3"
  },
  "language_info": {
   "codemirror_mode": {
    "name": "ipython",
    "version": 3
   },
   "file_extension": ".py",
   "mimetype": "text/x-python",
   "name": "python",
   "nbconvert_exporter": "python",
   "pygments_lexer": "ipython3",
   "version": "3.6.5"
  }
 },
 "nbformat": 4,
 "nbformat_minor": 2
}
